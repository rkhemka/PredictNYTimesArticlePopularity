{
 "cells": [
  {
   "cell_type": "markdown",
   "metadata": {},
   "source": [
    "### Imports"
   ]
  },
  {
   "cell_type": "code",
   "execution_count": 36,
   "metadata": {
    "collapsed": true
   },
   "outputs": [],
   "source": [
    "from sklearn.linear_model import LogisticRegression\n",
    "from sklearn.tree import DecisionTreeClassifier\n",
    "from sklearn.model_selection import train_test_split\n",
    "from sklearn.neighbors import KNeighborsClassifier\n",
    "from sklearn.naive_bayes import GaussianNB\n",
    "from sklearn.metrics import accuracy_score\n",
    "from sklearn import preprocessing\n",
    "from sklearn.cluster import KMeans\n",
    "from sklearn.model_selection  import cross_val_score\n",
    "from sklearn.ensemble import RandomForestClassifier\n",
    "from sklearn.linear_model import LinearRegression\n",
    "from sklearn.metrics import roc_auc_score\n",
    "import matplotlib.pyplot as plt\n",
    "from sklearn import metrics\n",
    "import numpy as np\n",
    "import pandas as pd\n",
    "\n",
    "\n",
    "from sklearn.model_selection import train_test_split\n",
    "from sklearn.metrics import accuracy_score\n",
    "from sklearn.model_selection import cross_val_score\n",
    "from sklearn.tree import DecisionTreeClassifier\n",
    "import time\n",
    "import datetime\n",
    "from collections import Counter"
   ]
  },
  {
   "cell_type": "markdown",
   "metadata": {},
   "source": [
    "### Reading CSV Files  "
   ]
  },
  {
   "cell_type": "code",
   "execution_count": 57,
   "metadata": {},
   "outputs": [
    {
     "data": {
      "text/plain": [
       "(1870, 9)"
      ]
     },
     "execution_count": 57,
     "metadata": {},
     "output_type": "execute_result"
    }
   ],
   "source": [
    "test_df = pd.read_csv('C:/Users/rajat/Artificial Intelligence/Project/NYTimesBlogTest.csv')\n",
    "df = pd.read_csv('C:/Users/rajat/Artificial Intelligence/Project/NYTimesBlogTrain.csv')\n",
    "test_df.shape"
   ]
  },
  {
   "cell_type": "code",
   "execution_count": 63,
   "metadata": {},
   "outputs": [
    {
     "data": {
      "text/plain": [
       "(6532, 5452)"
      ]
     },
     "execution_count": 63,
     "metadata": {},
     "output_type": "execute_result"
    }
   ],
   "source": [
    "X.shape"
   ]
  },
  {
   "cell_type": "code",
   "execution_count": 37,
   "metadata": {
    "collapsed": true
   },
   "outputs": [],
   "source": [
    "y = df['Popular'] \n",
    "\n",
    "# convert date to timestamp (milliseconds, divide by a million to get a more readable decimal)\n",
    "df['PubDate'] = df['PubDate'].apply(lambda x: time.mktime(time.strptime(x, '%Y-%m-%d %H:%M:%S'))/1000000)\n",
    "\n",
    "#replace empty values with the middle most common word\n",
    "\n",
    "def nan_to_meaningful(x, col):\n",
    "    if pd.isnull(x):\n",
    "        mc = Counter(col).most_common(8)\n",
    "        mc = [str(i[0]) for i in mc]\n",
    "        if 'nan' in mc:\n",
    "            mc.remove('nan')\n",
    "        rep = mc.pop((len(mc))//2)\n",
    "        return rep\n",
    "        \n",
    "    return x\n",
    "        \n",
    "my_list = [\"NewsDesk\",\"SectionName\",\"SubsectionName\",\"Headline\",\"Snippet\",\"Abstract\"]\n",
    "\n",
    "for f in my_list: \n",
    "    df[f] = df[f].apply(nan_to_meaningful, args=(df[f],))\n",
    "\n",
    "# split sentences into series of words so each word can be a column\n",
    "def string_to_series_of_words(x):    \n",
    "    return pd.Series(x.split(\" \"))\n",
    "\n",
    "\n",
    "for f in my_list[3:]:\n",
    "    df[f] = df[f].apply(string_to_series_of_words)\n",
    "    \n",
    "    \n",
    "df=pd.get_dummies(df,columns=[\"NewsDesk\",\"SectionName\",\"SubsectionName\", \"Headline\",\"Snippet\",\"Abstract\"],\n",
    "                  drop_first=False)\n",
    "\n",
    "new_features = list(df.dtypes.index)\n",
    "new_features.remove('Popular')\n",
    "\n",
    "X = df[new_features]\n",
    "\n",
    "# print(new_features)"
   ]
  },
  {
   "cell_type": "code",
   "execution_count": 38,
   "metadata": {},
   "outputs": [
    {
     "data": {
      "text/html": [
       "<div>\n",
       "<style>\n",
       "    .dataframe thead tr:only-child th {\n",
       "        text-align: right;\n",
       "    }\n",
       "\n",
       "    .dataframe thead th {\n",
       "        text-align: left;\n",
       "    }\n",
       "\n",
       "    .dataframe tbody tr th {\n",
       "        vertical-align: top;\n",
       "    }\n",
       "</style>\n",
       "<table border=\"1\" class=\"dataframe\">\n",
       "  <thead>\n",
       "    <tr style=\"text-align: right;\">\n",
       "      <th></th>\n",
       "      <th>WordCount</th>\n",
       "      <th>PubDate</th>\n",
       "      <th>UniqueID</th>\n",
       "      <th>NewsDesk_Business</th>\n",
       "      <th>NewsDesk_Culture</th>\n",
       "      <th>NewsDesk_Foreign</th>\n",
       "      <th>NewsDesk_Magazine</th>\n",
       "      <th>NewsDesk_Metro</th>\n",
       "      <th>NewsDesk_National</th>\n",
       "      <th>NewsDesk_OpEd</th>\n",
       "      <th>...</th>\n",
       "      <th>Abstract_YouTubes</th>\n",
       "      <th>Abstract_Young</th>\n",
       "      <th>Abstract_Your</th>\n",
       "      <th>Abstract_Youre</th>\n",
       "      <th>Abstract_Yunghi</th>\n",
       "      <th>Abstract_Yusuf,</th>\n",
       "      <th>Abstract_Zachary</th>\n",
       "      <th>Abstract_Zombies</th>\n",
       "      <th>Abstract_Zun</th>\n",
       "      <th>Abstract_letter</th>\n",
       "    </tr>\n",
       "  </thead>\n",
       "  <tbody>\n",
       "    <tr>\n",
       "      <th>0</th>\n",
       "      <td>508</td>\n",
       "      <td>1409.634009</td>\n",
       "      <td>1</td>\n",
       "      <td>1</td>\n",
       "      <td>0</td>\n",
       "      <td>0</td>\n",
       "      <td>0</td>\n",
       "      <td>0</td>\n",
       "      <td>0</td>\n",
       "      <td>0</td>\n",
       "      <td>...</td>\n",
       "      <td>0</td>\n",
       "      <td>0</td>\n",
       "      <td>0</td>\n",
       "      <td>0</td>\n",
       "      <td>0</td>\n",
       "      <td>0</td>\n",
       "      <td>0</td>\n",
       "      <td>0</td>\n",
       "      <td>0</td>\n",
       "      <td>0</td>\n",
       "    </tr>\n",
       "    <tr>\n",
       "      <th>1</th>\n",
       "      <td>285</td>\n",
       "      <td>1409.631247</td>\n",
       "      <td>2</td>\n",
       "      <td>0</td>\n",
       "      <td>1</td>\n",
       "      <td>0</td>\n",
       "      <td>0</td>\n",
       "      <td>0</td>\n",
       "      <td>0</td>\n",
       "      <td>0</td>\n",
       "      <td>...</td>\n",
       "      <td>0</td>\n",
       "      <td>0</td>\n",
       "      <td>0</td>\n",
       "      <td>0</td>\n",
       "      <td>0</td>\n",
       "      <td>0</td>\n",
       "      <td>0</td>\n",
       "      <td>0</td>\n",
       "      <td>0</td>\n",
       "      <td>0</td>\n",
       "    </tr>\n",
       "    <tr>\n",
       "      <th>2</th>\n",
       "      <td>1211</td>\n",
       "      <td>1409.630736</td>\n",
       "      <td>3</td>\n",
       "      <td>1</td>\n",
       "      <td>0</td>\n",
       "      <td>0</td>\n",
       "      <td>0</td>\n",
       "      <td>0</td>\n",
       "      <td>0</td>\n",
       "      <td>0</td>\n",
       "      <td>...</td>\n",
       "      <td>0</td>\n",
       "      <td>0</td>\n",
       "      <td>0</td>\n",
       "      <td>0</td>\n",
       "      <td>0</td>\n",
       "      <td>0</td>\n",
       "      <td>0</td>\n",
       "      <td>0</td>\n",
       "      <td>0</td>\n",
       "      <td>0</td>\n",
       "    </tr>\n",
       "    <tr>\n",
       "      <th>3</th>\n",
       "      <td>1405</td>\n",
       "      <td>1409.629414</td>\n",
       "      <td>4</td>\n",
       "      <td>1</td>\n",
       "      <td>0</td>\n",
       "      <td>0</td>\n",
       "      <td>0</td>\n",
       "      <td>0</td>\n",
       "      <td>0</td>\n",
       "      <td>0</td>\n",
       "      <td>...</td>\n",
       "      <td>0</td>\n",
       "      <td>0</td>\n",
       "      <td>0</td>\n",
       "      <td>0</td>\n",
       "      <td>0</td>\n",
       "      <td>0</td>\n",
       "      <td>0</td>\n",
       "      <td>0</td>\n",
       "      <td>0</td>\n",
       "      <td>0</td>\n",
       "    </tr>\n",
       "    <tr>\n",
       "      <th>4</th>\n",
       "      <td>181</td>\n",
       "      <td>1409.623131</td>\n",
       "      <td>5</td>\n",
       "      <td>0</td>\n",
       "      <td>0</td>\n",
       "      <td>0</td>\n",
       "      <td>0</td>\n",
       "      <td>0</td>\n",
       "      <td>0</td>\n",
       "      <td>0</td>\n",
       "      <td>...</td>\n",
       "      <td>0</td>\n",
       "      <td>0</td>\n",
       "      <td>0</td>\n",
       "      <td>0</td>\n",
       "      <td>0</td>\n",
       "      <td>0</td>\n",
       "      <td>0</td>\n",
       "      <td>0</td>\n",
       "      <td>0</td>\n",
       "      <td>0</td>\n",
       "    </tr>\n",
       "  </tbody>\n",
       "</table>\n",
       "<p>5 rows × 5452 columns</p>\n",
       "</div>"
      ],
      "text/plain": [
       "   WordCount      PubDate  UniqueID  NewsDesk_Business  NewsDesk_Culture  \\\n",
       "0        508  1409.634009         1                  1                 0   \n",
       "1        285  1409.631247         2                  0                 1   \n",
       "2       1211  1409.630736         3                  1                 0   \n",
       "3       1405  1409.629414         4                  1                 0   \n",
       "4        181  1409.623131         5                  0                 0   \n",
       "\n",
       "   NewsDesk_Foreign  NewsDesk_Magazine  NewsDesk_Metro  NewsDesk_National  \\\n",
       "0                 0                  0               0                  0   \n",
       "1                 0                  0               0                  0   \n",
       "2                 0                  0               0                  0   \n",
       "3                 0                  0               0                  0   \n",
       "4                 0                  0               0                  0   \n",
       "\n",
       "   NewsDesk_OpEd       ...         Abstract_YouTubes  Abstract_Young  \\\n",
       "0              0       ...                         0               0   \n",
       "1              0       ...                         0               0   \n",
       "2              0       ...                         0               0   \n",
       "3              0       ...                         0               0   \n",
       "4              0       ...                         0               0   \n",
       "\n",
       "   Abstract_Your  Abstract_Youre  Abstract_Yunghi  Abstract_Yusuf,  \\\n",
       "0              0               0                0                0   \n",
       "1              0               0                0                0   \n",
       "2              0               0                0                0   \n",
       "3              0               0                0                0   \n",
       "4              0               0                0                0   \n",
       "\n",
       "   Abstract_Zachary  Abstract_Zombies  Abstract_Zun  Abstract_letter  \n",
       "0                 0                 0             0                0  \n",
       "1                 0                 0             0                0  \n",
       "2                 0                 0             0                0  \n",
       "3                 0                 0             0                0  \n",
       "4                 0                 0             0                0  \n",
       "\n",
       "[5 rows x 5452 columns]"
      ]
     },
     "execution_count": 38,
     "metadata": {},
     "output_type": "execute_result"
    }
   ],
   "source": [
    "X.head()"
   ]
  },
  {
   "cell_type": "code",
   "execution_count": null,
   "metadata": {
    "collapsed": true
   },
   "outputs": [],
   "source": []
  },
  {
   "cell_type": "markdown",
   "metadata": {},
   "source": [
    "### Random Forest Classifier "
   ]
  },
  {
   "cell_type": "code",
   "execution_count": 5,
   "metadata": {},
   "outputs": [
    {
     "name": "stdout",
     "output_type": "stream",
     "text": [
      "Accuracy on training data by Random Forest:  0.911314984709\n"
     ]
    }
   ],
   "source": [
    "y = df['Popular'] \n",
    "X_train, X_test, y_train, y_test = train_test_split(X,y, test_size=0.1, random_state=1)\n",
    "\n",
    "rf_model =  RandomForestClassifier(n_estimators=60)\n",
    "rf_model.fit(X_train, y_train)\n",
    "\n",
    "\n",
    "# Scoring based on the train RF Model\n",
    "predictions = rf_model.predict(X_test)\n",
    "predictions\n",
    "accuracyDt = accuracy_score(y_test, predictions)\n",
    "\n",
    "print(\"Accuracy on training data by Random Forest: \", accuracyDt)"
   ]
  },
  {
   "cell_type": "markdown",
   "metadata": {},
   "source": [
    "### Cross Validation Using Decision Tree "
   ]
  },
  {
   "cell_type": "code",
   "execution_count": 39,
   "metadata": {},
   "outputs": [
    {
     "name": "stdout",
     "output_type": "stream",
     "text": [
      "Accuracy Using Cross Validation With Decision Tree 0.763116466645\n"
     ]
    }
   ],
   "source": [
    "# importing the method:\n",
    "from sklearn.cross_validation import cross_val_score\n",
    "\n",
    "\n",
    "decisionTree = DecisionTreeClassifier()\n",
    "\n",
    "accuracy_list = cross_val_score(decisionTree, X, y, cv=10, scoring='accuracy')\n",
    "\n",
    "accuracy_gb = accuracy_list.mean()\n",
    "\n",
    "print(\"Accuracy Using Cross Validation With Decision Tree\",accuracy_gb)"
   ]
  },
  {
   "cell_type": "code",
   "execution_count": null,
   "metadata": {
    "collapsed": true
   },
   "outputs": [],
   "source": []
  },
  {
   "cell_type": "markdown",
   "metadata": {},
   "source": [
    "### Gradient Boosting"
   ]
  },
  {
   "cell_type": "code",
   "execution_count": 94,
   "metadata": {},
   "outputs": [
    {
     "name": "stdout",
     "output_type": "stream",
     "text": [
      "Accuracy Using Cross Validation With Gradient Boosting 0.882833231272\n"
     ]
    }
   ],
   "source": [
    "from sklearn.ensemble import GradientBoostingClassifier\n",
    "from sklearn.model_selection import train_test_split\n",
    "y = df['Popular'] \n",
    "X_train, X_test, y_train, y_test = train_test_split(X, y, random_state=0)\n",
    "clf = GradientBoostingClassifier(learning_rate= 0.01, max_depth=2,random_state=0)\n",
    "clf.fit(X_train, y_train)\n",
    "\n",
    "x1 = clf.score(X_train, y_train) \n",
    "print(\"Accuracy Using Cross Validation With Gradient Boosting\",x1)"
   ]
  },
  {
   "cell_type": "markdown",
   "metadata": {},
   "source": [
    "### SVM "
   ]
  },
  {
   "cell_type": "code",
   "execution_count": 7,
   "metadata": {},
   "outputs": [
    {
     "data": {
      "text/plain": [
       "0.8738518064911206"
      ]
     },
     "execution_count": 7,
     "metadata": {},
     "output_type": "execute_result"
    }
   ],
   "source": [
    "from sklearn.svm import SVC\n",
    "from sklearn import svm\n",
    "y = df['Popular'] \n",
    "X_train, X_test, y_train, y_test = train_test_split(X, y, random_state=0)\n",
    "\n",
    "clf = svm.SVC(kernel='linear', C=1).fit(X_train, y_train)\n",
    "\n",
    "clf.score(X_test, y_test)\n"
   ]
  },
  {
   "cell_type": "markdown",
   "metadata": {},
   "source": [
    "### Knn  "
   ]
  },
  {
   "cell_type": "code",
   "execution_count": 93,
   "metadata": {},
   "outputs": [
    {
     "name": "stdout",
     "output_type": "stream",
     "text": [
      "Accuracy using KNN 0.830985915493\n"
     ]
    }
   ],
   "source": [
    "k=30\n",
    "y = df['Popular'] \n",
    "X_train, X_test, y_train, y_test = train_test_split(X, y, random_state=0)\n",
    "my_knn = KNeighborsClassifier(n_neighbors=k)\n",
    "my_knn.fit(X_train, y_train)\n",
    "y_predict = my_knn.predict(X_test)\n",
    "accuracyKnn = accuracy_score(y_test, y_predict)\n",
    "print(\"Accuracy using KNN\", accuracyKnn)"
   ]
  },
  {
   "cell_type": "markdown",
   "metadata": {},
   "source": [
    "### Neural Networks "
   ]
  },
  {
   "cell_type": "code",
   "execution_count": 69,
   "metadata": {},
   "outputs": [
    {
     "name": "stdout",
     "output_type": "stream",
     "text": [
      "Accuracy on training data by Neural Networks:  0.822448979592\n"
     ]
    }
   ],
   "source": [
    "from sklearn.neural_network import MLPClassifier\n",
    "clf = MLPClassifier(solver='lbfgs', alpha=1e-5,hidden_layer_sizes=(5, 2), random_state=1)\n",
    "clf.fit(X_train,y_train)\n",
    "y = df['Popular'] \n",
    "X_train, X_test, y_train, y_test = train_test_split(X, y, random_state=0)\n",
    "predictions = clf.predict(X_test)\n",
    "predictions\n",
    "accuracyDt = accuracy_score(y_test, predictions)\n",
    "\n",
    "print(\"Accuracy on training data by Neural Networks: \", accuracyDt)"
   ]
  },
  {
   "cell_type": "markdown",
   "metadata": {},
   "source": [
    "### Decision Tree"
   ]
  },
  {
   "cell_type": "code",
   "execution_count": 98,
   "metadata": {},
   "outputs": [
    {
     "name": "stdout",
     "output_type": "stream",
     "text": [
      "Accuracy on training data by Decision Tree:  0.895897121862\n"
     ]
    }
   ],
   "source": [
    "from sklearn.tree import DecisionTreeClassifier\n",
    "\n",
    "y = df['Popular'] \n",
    "X_train, X_test, Y_train, Y_test = train_test_split(X, y, random_state=0)\n",
    "dT = DecisionTreeClassifier()\n",
    "dT.fit(X_train, Y_train)\n",
    "predictions = dT.predict(X_test)\n",
    "predictions\n",
    "accuracyDt = accuracy_score(y_test, predictions)\n",
    "\n",
    "print(\"Accuracy on training data by Decision Tree: \", accuracyDt)"
   ]
  },
  {
   "cell_type": "markdown",
   "metadata": {},
   "source": [
    "### Results "
   ]
  },
  {
   "cell_type": "raw",
   "metadata": {},
   "source": [
    "Applied 7 Classifier and the results are:\n",
    "\n",
    "Random Forest 0.9111\n",
    "Cross Validation with Decision Tree 0.7631\n",
    "Gradient Boosting 0.8828\n",
    "Support Vector Machine 0.8738\n",
    "KNN 0.8303\n",
    "Neural Networks 0.8224\n",
    "Decision Tree 0.8958\n",
    "\n",
    "These results were obtained after applying classifiers on Training Dataset"
   ]
  },
  {
   "cell_type": "code",
   "execution_count": null,
   "metadata": {
    "collapsed": true
   },
   "outputs": [],
   "source": []
  }
 ],
 "metadata": {
  "kernelspec": {
   "display_name": "Python 3",
   "language": "python",
   "name": "python3"
  },
  "language_info": {
   "codemirror_mode": {
    "name": "ipython",
    "version": 3
   },
   "file_extension": ".py",
   "mimetype": "text/x-python",
   "name": "python",
   "nbconvert_exporter": "python",
   "pygments_lexer": "ipython3",
   "version": "3.6.1"
  }
 },
 "nbformat": 4,
 "nbformat_minor": 2
}
